{
 "cells": [
  {
   "cell_type": "markdown",
   "metadata": {},
   "source": [
    "# ZADANIE 1"
   ]
  },
  {
   "cell_type": "markdown",
   "metadata": {},
   "source": [
    "a) Wykonaj poniższy skrypt i przeanalizuj go:"
   ]
  },
  {
   "cell_type": "code",
   "execution_count": 2,
   "metadata": {},
   "outputs": [
    {
     "data": {
      "image/png": "[encoded data removed]",
      "text/plain": [
       "<Figure size 1200x480 with 2 Axes>"
      ]
     },
     "metadata": {},
     "output_type": "display_data"
    }
   ],
   "source": [
    "from __future__ import division\n",
    "from pylab import *\n",
    "from numpy import *\n",
    "from scipy import *\n",
    "from ipywidgets import *\n",
    "import math as mt\n",
    "\n",
    "from ipywidgets import interact, interactive, fixed, interact_manual\n",
    "%matplotlib inline\n",
    "\n",
    "A = 1\n",
    "# Amplituda sygnału\n",
    "\n",
    "LP = 1 \n",
    "# Liczba analizowanych pełnych przebiegów sygnału (okresów)\n",
    "w = 40           \n",
    "# czśstotliwość probkowania [Hz] sygnału \n",
    "#(jak często w ciągu sekundy pobieramy informacje o wartości sygnału)\n",
    "\n",
    "f = 2.0           \n",
    "# Czestotliwosc sygnalu [Hz]\n",
    "\n",
    "T = 1.0/f        \n",
    "# Okres sygnalu [s] (jak długo trwa jeden przebieg sinusa)\n",
    "\n",
    "TW = 1.0/w        \n",
    "# Okres probkowania [s] (co ile sekund pobieramy próbkę)\n",
    "\n",
    "t = np.arange(0, LP*T, TW)\n",
    "# generujemy momenty, w których pobieramy próbki\n",
    "\n",
    "n = len(t)\n",
    "    \n",
    "FUNC = lambda t : A*sin(2*pi*t*f)    \n",
    "# def. funkcji (tutaj sinus)\n",
    "\n",
    "signal = FUNC(t)                 \n",
    "# funkcja sprobkowana\n",
    "\n",
    "fig = plt.figure(figsize=(15, 6), dpi=80)   \n",
    "ax = fig.add_subplot(121)\n",
    "## --- POMOCNICZY SYGNAL\n",
    "base_t = np.arange(0, LP*T, 1.0/200.0)\n",
    "base_signal = FUNC(base_t)\n",
    "ax.plot(base_t, base_signal, linestyle='-', color='red')\n",
    "ax.set_ylim([min(base_signal), max(base_signal)])\n",
    "## --- \n",
    "ax.plot(t, signal, 'o')\n",
    "\n",
    "signal1 = fft(signal)\n",
    "# sygnal w dziedzinie czestotliwosci \n",
    "signal1 = abs(signal1)        \n",
    "# modul sygnalu\n",
    "\n",
    "freqs = range(int(n))\n",
    "\n",
    "\n",
    "ax = fig.add_subplot(122)\n",
    "ymax = max(signal1)\n",
    "if (ymax > 3.0):\n",
    "    ax.set_ylim([0.0,ymax])\n",
    "else:\n",
    "    ax.set_ylim([0.0,3.0])\n",
    "stem(freqs, signal1, '-*')\n",
    "\n",
    "show()"
   ]
  },
  {
   "cell_type": "markdown",
   "metadata": {},
   "source": [
    "UWAGA: do dalszych ćwiczeń warto powyższy skrypt przekształcić na funkcję o wielu argumentach, typu: amplituda, częstotliwość próbkowania, liczba przebiegów. Oczywiście dla wygody, należy nadać wartości domyślne argumentom funkcji."
   ]
  },
  {
   "cell_type": "code",
   "execution_count": 1,
   "metadata": {},
   "outputs": [
    {
     "ename": "NameError",
     "evalue": "name 'np' is not defined",
     "traceback": [
      "\u001b[1;31m---------------------------------------------------------------------------\u001b[0m",
      "\u001b[1;31mNameError\u001b[0m                                 Traceback (most recent call last)",
      "\u001b[1;32m<ipython-input-1-4d7f121ecbb4>\u001b[0m in \u001b[0;36m<module>\u001b[1;34m\u001b[0m\n\u001b[0;32m     58\u001b[0m \u001b[1;33m\u001b[0m\u001b[0m\n\u001b[0;32m     59\u001b[0m     \u001b[0mshow\u001b[0m\u001b[1;33m(\u001b[0m\u001b[1;33m)\u001b[0m\u001b[1;33m\u001b[0m\u001b[1;33m\u001b[0m\u001b[0m\n\u001b[1;32m---> 60\u001b[1;33m \u001b[0mmyFunc\u001b[0m\u001b[1;33m(\u001b[0m\u001b[1;33m)\u001b[0m\u001b[1;33m\u001b[0m\u001b[1;33m\u001b[0m\u001b[0m\n\u001b[0m",
      "\u001b[1;32m<ipython-input-1-4d7f121ecbb4>\u001b[0m in \u001b[0;36mmyFunc\u001b[1;34m(A, LP, w, f)\u001b[0m\n\u001b[0;32m     20\u001b[0m     \u001b[1;31m# Okres probkowania [s] (co ile sekund pobieramy próbkę)\u001b[0m\u001b[1;33m\u001b[0m\u001b[1;33m\u001b[0m\u001b[1;33m\u001b[0m\u001b[0m\n\u001b[0;32m     21\u001b[0m \u001b[1;33m\u001b[0m\u001b[0m\n\u001b[1;32m---> 22\u001b[1;33m     \u001b[0mt\u001b[0m \u001b[1;33m=\u001b[0m \u001b[0mnp\u001b[0m\u001b[1;33m.\u001b[0m\u001b[0marange\u001b[0m\u001b[1;33m(\u001b[0m\u001b[1;36m0\u001b[0m\u001b[1;33m,\u001b[0m \u001b[0mLP\u001b[0m\u001b[1;33m*\u001b[0m\u001b[0mT\u001b[0m\u001b[1;33m,\u001b[0m \u001b[0mTW\u001b[0m\u001b[1;33m)\u001b[0m\u001b[1;33m\u001b[0m\u001b[1;33m\u001b[0m\u001b[0m\n\u001b[0m\u001b[0;32m     23\u001b[0m     \u001b[1;31m# generujemy momenty, w których pobieramy próbki\u001b[0m\u001b[1;33m\u001b[0m\u001b[1;33m\u001b[0m\u001b[1;33m\u001b[0m\u001b[0m\n\u001b[0;32m     24\u001b[0m \u001b[1;33m\u001b[0m\u001b[0m\n",
      "\u001b[1;31mNameError\u001b[0m: name 'np' is not defined"
     ],
     "output_type": "error"
    }
   ],
   "source": [
    "# Zdefiniuj funckję\n",
    "def myFunc(A=1,LP=1,w=40,f=2.0):\n",
    "    \n",
    "#     A = 1\n",
    "#     # Amplituda sygnału\n",
    "\n",
    "#     LP = 1 \n",
    "#     # Liczba analizowanych pełnych przebiegów sygnału (okresów)\n",
    "#     w = 40           \n",
    "#     # czśstotliwość probkowania [Hz] sygnału \n",
    "#     #(jak często w ciągu sekundy pobieramy informacje o wartości sygnału)\n",
    "\n",
    "#     f = 2.0           \n",
    "#     # Czestotliwosc sygnalu [Hz]\n",
    "\n",
    "    T = 1.0/f        \n",
    "    # Okres sygnalu [s] (jak długo trwa jeden przebieg sinusa)\n",
    "\n",
    "    TW = 1.0/w        \n",
    "    # Okres probkowania [s] (co ile sekund pobieramy próbkę)\n",
    "\n",
    "    t = np.arange(0, LP*T, TW)\n",
    "    # generujemy momenty, w których pobieramy próbki\n",
    "\n",
    "    n = len(t)\n",
    "\n",
    "    FUNC = lambda t : A*sin(2*pi*t*f)    \n",
    "    # def. funkcji (tutaj sinus)\n",
    "\n",
    "    signal = FUNC(t)   \n",
    "    # funkcja sprobkowana\n",
    "\n",
    "    fig = plt.figure(figsize=(15, 6), dpi=80)   \n",
    "    ax = fig.add_subplot(121)\n",
    "    ## --- POMOCNICZY SYGNAL\n",
    "    base_t = np.arange(0, LP*T, 1.0/200.0)\n",
    "    base_signal = FUNC(base_t)\n",
    "    ax.plot(base_t, base_signal, linestyle='-', color='red')\n",
    "    ax.set_ylim([min(base_signal), max(base_signal)])\n",
    "    ## --- \n",
    "    ax.plot(t, signal, 'o')\n",
    "\n",
    "    signal1 = fft(signal)\n",
    "    # sygnal w dziedzinie czestotliwosci \n",
    "    signal1 = abs(signal1)        \n",
    "    # modul sygnalu\n",
    "\n",
    "    freqs = range(int(n))\n",
    "\n",
    "\n",
    "    ax = fig.add_subplot(122)\n",
    "    ymax = max(signal1)\n",
    "    if (ymax > 3.0):\n",
    "        ax.set_ylim([0.0,ymax])\n",
    "    else:\n",
    "        ax.set_ylim([0.0,3.0])\n",
    "    stem(freqs, signal1, '-*')\n",
    "\n",
    "    show()\n",
    "myFunc()\n"
   ]
  },
  {
   "cell_type": "markdown",
   "metadata": {},
   "source": [
    "UWAGA DLA CHĘTNYCH: można wykorzystać 'interact', dzięki któremu można zmieniac parametry danej funkcji i na bieżąco obserwować zmiany. Poniższy kod przedstawia sposób wykorzystania interact:"
   ]
  },
  {
   "cell_type": "code",
   "execution_count": null,
   "metadata": {},
   "outputs": [
    {
     "data": {
      "text/plain": [
       "interactive(children=(FloatSlider(value=2.0, description='a', max=5.0, min=-5.0, step=0.5), FloatSlider(value=…"
      ]
     },
     "execution_count": 0,
     "metadata": {},
     "output_type": "execute_result"
    },
    {
     "data": {
      "image/png": "[encoded data removed]",
      "text/plain": [
       "<Figure size 480x240 with 1 Axes>"
      ]
     },
     "metadata": {},
     "output_type": "display_data"
    },
    {
     "data": {
      "text/plain": [
       "<function __main__.prosta(a=2, b=0)>"
      ]
     },
     "execution_count": 4,
     "metadata": {},
     "output_type": "execute_result"
    }
   ],
   "source": [
    "from ipykernel.pylab.backend_inline import flush_figures\n",
    "\n",
    "from ipywidgets import interact, interactive, fixed, interact_manual\n",
    "def prosta(a=2, b=0):\n",
    "    x = linspace(-5, 5, 100, endpoint=False) # punkty na osi OX [s]\n",
    "    f = lambda x : a*x + b\n",
    "    y = f(x)   \n",
    "    \n",
    "    fig = plt.figure(figsize=(6, 3), dpi=80)\n",
    "    ax = fig.add_subplot(111)\n",
    "    ax.set_xlim(-5, 5)\n",
    "    ax.set_ylim(-5, 5)\n",
    "    ax.plot(x, y)\n",
    "    flush_figures()\n",
    "    \n",
    "interact(prosta, a=(-5,5,0.5), b=(-5,5,0.5))\n",
    "    "
   ]
  },
  {
   "cell_type": "markdown",
   "metadata": {},
   "source": [
    "b) Zmień częstotliwość próbkowania na 50Hz."
   ]
  },
  {
   "cell_type": "code",
   "execution_count": null,
   "metadata": {},
   "outputs": [],
   "source": [
    "# w=50"
   ]
  },
  {
   "cell_type": "markdown",
   "metadata": {},
   "source": [
    "c) Punkty na osi OX spektrum są teraz kolejnymi liczbami naturalnymi, a nie częstotliwościami w Hz. Popraw skrypt (funkcje), tak aby oś OX spektrum była w Hz (podpowiedź: oś OX rozpoczyna się od 0Hz, a kończy się na (prawie!)  Hz, gdzie  jest częstotliwością próbkowania). Następnie: Upewnij się, że spektrum dla 1Hz-owego sinusa i pięciu (LP=5) analizowanych przebiegów wygląda teraz prawidłowo."
   ]
  },
  {
   "cell_type": "code",
   "execution_count": null,
   "metadata": {},
   "outputs": [],
   "source": [
    "# popraw oś OX"
   ]
  },
  {
   "cell_type": "markdown",
   "metadata": {},
   "source": [
    "d) Podpisz osie obu wykresów, używając funkcji xlabel() i ylabel(). Pamiętaj o jednostkach."
   ]
  },
  {
   "cell_type": "code",
   "execution_count": null,
   "metadata": {},
   "outputs": [],
   "source": [
    "# Podpisz osie wykresów"
   ]
  },
  {
   "cell_type": "markdown",
   "metadata": {},
   "source": [
    "f) Porównaj spektrum funkcji $sin(2*pi*f*t)$, $2*sin(2*pi*f*t)$ i $3*sin(2*pi*f*t)$. Jak zmienia się wartość na osi OY na wykresie spektrum?"
   ]
  },
  {
   "cell_type": "code",
   "execution_count": null,
   "metadata": {},
   "outputs": [],
   "source": [
    "# f=1, A=1, LP=1"
   ]
  },
  {
   "cell_type": "code",
   "execution_count": null,
   "metadata": {},
   "outputs": [],
   "source": [
    "# f=1, A=2, LP=1"
   ]
  },
  {
   "cell_type": "code",
   "execution_count": null,
   "metadata": {
    "scrolled": true
   },
   "outputs": [],
   "source": [
    "# f=1, A=3, LP=1"
   ]
  },
  {
   "cell_type": "markdown",
   "metadata": {},
   "source": [
    "g) Ile punktów jest na wykresach przy częstotliwości próbkowania 50Hz, T=1s? Zwiększ dwukrotnie liczbę próbek poprzez zwiększenie częstotliwości próbkowania. Następnie: dla $sin(2*pi*f*t)$ porównaj wartość na osi OY spektrum uzyskane w tym oraz poprzednim punkcie."
   ]
  },
  {
   "cell_type": "code",
   "execution_count": null,
   "metadata": {},
   "outputs": [],
   "source": [
    "# f=1, w=50, LP=1"
   ]
  },
  {
   "cell_type": "code",
   "execution_count": null,
   "metadata": {},
   "outputs": [],
   "source": [
    "# f=1, w=100, LP=1"
   ]
  },
  {
   "cell_type": "markdown",
   "metadata": {},
   "source": [
    "h) Na podstawie wyników uzyskanych w dwóch poprzednich punktach przeskaluj oś OY spektrum tak, aby wskazywała wartości amplitud badanych sygnałów. Sprawdź wyniki dla kilku wybranych funkcji."
   ]
  },
  {
   "cell_type": "code",
   "execution_count": null,
   "metadata": {},
   "outputs": [],
   "source": [
    "# popraw oś OY"
   ]
  },
  {
   "cell_type": "markdown",
   "metadata": {},
   "source": [
    "# Zadanie 2"
   ]
  },
  {
   "cell_type": "markdown",
   "metadata": {},
   "source": [
    "a) Wygeneruj spektrum dla funkcji sinus o częstotliwościach 5Hz i 21Hz, dla czestotliwości próbkowania 20Hz i 20 (LP=20) analizowanych przebiegów. Czy rozpoznajesz te funkcje patrząc na ich spróbkowane wykresy? Odczytaj w drugim przypadku uzyskaną częstotliwość z FFT. Dlaczego uzyskano taki wynik?"
   ]
  },
  {
   "cell_type": "code",
   "execution_count": null,
   "metadata": {},
   "outputs": [],
   "source": [
    "# f=5, w=20, LP=20"
   ]
  },
  {
   "cell_type": "code",
   "execution_count": null,
   "metadata": {},
   "outputs": [],
   "source": [
    "# f=21, w=20, LP=20"
   ]
  },
  {
   "cell_type": "markdown",
   "metadata": {},
   "source": [
    "Zwróć uwagę, że spektrum jest symetryczne (poza pierwszym elementem)."
   ]
  },
  {
   "cell_type": "markdown",
   "metadata": {},
   "source": [
    "b) Przy w=100Hz, przeanalizuj widma sygnałów:"
   ]
  },
  {
   "cell_type": "markdown",
   "metadata": {},
   "source": [
    "i) $sin(2*pi*t*f)$, $f=10Hz$"
   ]
  },
  {
   "cell_type": "code",
   "execution_count": null,
   "metadata": {},
   "outputs": [],
   "source": [
    "# f=10, w=100, A=1, LP=10"
   ]
  },
  {
   "cell_type": "markdown",
   "metadata": {},
   "source": [
    "ii) $sin(2*pi*t*f)$, $f=20Hz$"
   ]
  },
  {
   "cell_type": "code",
   "execution_count": null,
   "metadata": {},
   "outputs": [],
   "source": [
    "# f=20, w=100, A=1, LP=10"
   ]
  },
  {
   "cell_type": "markdown",
   "metadata": {},
   "source": [
    "iii) $sin(2*pi*t*f)$, $f=30Hz$ (tutaj słupki nie będą wyglądać idealnie; dlaczego?)"
   ]
  },
  {
   "cell_type": "code",
   "execution_count": null,
   "metadata": {},
   "outputs": [],
   "source": [
    "# f=30, w=100, A=1, LP=10"
   ]
  },
  {
   "cell_type": "markdown",
   "metadata": {},
   "source": [
    "iv) $sin(2*pi*t*f)$, $f=40Hz$"
   ]
  },
  {
   "cell_type": "code",
   "execution_count": null,
   "metadata": {},
   "outputs": [],
   "source": [
    "# f=40, w=100, A=1, LP=10"
   ]
  },
  {
   "cell_type": "markdown",
   "metadata": {},
   "source": [
    "c) Przy F=50Hz, w=100Hz, wygeneruj spektrum dla $sin(2*pi*f*t)$. Zwróć uwagę na skalę wykresów."
   ]
  },
  {
   "cell_type": "code",
   "execution_count": null,
   "metadata": {},
   "outputs": [],
   "source": [
    "# f=50, w=100, A=1, LP=10"
   ]
  },
  {
   "cell_type": "markdown",
   "metadata": {},
   "source": [
    "c) Jak się nazywa twierdzenie, którego konsekwencją jest takie zachowanie się spektrum?"
   ]
  },
  {
   "cell_type": "markdown",
   "metadata": {},
   "source": [
    "# Zadanie 3"
   ]
  },
  {
   "cell_type": "markdown",
   "metadata": {},
   "source": [
    "Poniższe przypadki skłądają się z złożonych sygnałów. Trzeba teraz będzie zmodyfikować trochę FUNC"
   ]
  },
  {
   "cell_type": "markdown",
   "metadata": {},
   "source": [
    "a) $sin(2*pi*t*f) + 2*sin(4*pi*t*f)$, T=1s, w=20Hz."
   ]
  },
  {
   "cell_type": "code",
   "execution_count": null,
   "metadata": {},
   "outputs": [],
   "source": [
    "# Wyrysuj sygnał"
   ]
  },
  {
   "cell_type": "raw",
   "metadata": {},
   "source": [
    "c) Wygenerujemy trochę szumu. Wychodząc z funkcji sin(2*pi*t*f), dodamy do niej 100 losowych sinusów. Wygenerujemy dla nich losowo amplitudy (z [0.02, 0.08], częstotliwosci: [5.0, 10.0] oraz modyfikacje fazy[0 + 2*pi]. Inne parametry: w=20Hz, T=1s. Czy dla powyższych paramerów losowania, jesteś w stanie odnaleźć bazowy przebieg (sin(2*pi*t))? Czy jesteś w stanie zlokalizować szum?"
   ]
  },
  {
   "cell_type": "code",
   "execution_count": null,
   "metadata": {},
   "outputs": [],
   "source": []
  },
  {
   "cell_type": "markdown",
   "metadata": {},
   "source": [
    "d) $0.5 + 2*sin(2*pi*t*f)$, T=1s, w=20Hz. Czy amplituda zerowego prążka jest prawidłowa? Dlaczego? (Podpowiedź: zwróć jeszcze raz uwagę na “symetrię” spektrum)."
   ]
  },
  {
   "cell_type": "code",
   "execution_count": null,
   "metadata": {},
   "outputs": [],
   "source": [
    "# Wyrysuj sygnał\n"
   ]
  },
  {
   "cell_type": "markdown",
   "metadata": {},
   "source": [
    "e) $sin(2*pi*t*f)$ oraz $sin(2*pi*t*f + pi/4)$ dla T=1s, w=20Hz. Czy informacja o fazie zniknęła? Poszukaj śladów tej informacji w tablicy, będącej wynikiem operacji fft(signal). (funkcja angle(sygnal, deg=True)"
   ]
  },
  {
   "cell_type": "code",
   "execution_count": null,
   "metadata": {},
   "outputs": [],
   "source": [
    "# faza = 0\n"
   ]
  },
  {
   "cell_type": "code",
   "execution_count": null,
   "metadata": {},
   "outputs": [],
   "source": [
    "# faza = pi/4\n"
   ]
  },
  {
   "cell_type": "markdown",
   "metadata": {},
   "source": [
    "# Zadanie 4"
   ]
  },
  {
   "cell_type": "markdown",
   "metadata": {},
   "source": [
    "Oblicz wynik ifft(fft(x)), gdzie x=random.random(10). Czy jakaś informacja została stracona?"
   ]
  },
  {
   "cell_type": "code",
   "execution_count": null,
   "metadata": {
    "collapsed": true
   },
   "outputs": [],
   "source": [
    "# wygeneruj wektor x\n"
   ]
  },
  {
   "cell_type": "code",
   "execution_count": null,
   "metadata": {
    "collapsed": true
   },
   "outputs": [],
   "source": [
    "# oblicz fft z x\n"
   ]
  },
  {
   "cell_type": "code",
   "execution_count": null,
   "metadata": {
    "collapsed": true
   },
   "outputs": [],
   "source": [
    "# oblicz ifft"
   ]
  },
  {
   "cell_type": "code",
   "execution_count": null,
   "metadata": {},
   "outputs": [],
   "source": [
    "#porownaj x z ifft(fft(x)), wystarczy print"
   ]
  },
  {
   "cell_type": "code",
   "execution_count": null,
   "metadata": {
    "collapsed": true
   },
   "outputs": [],
   "source": []
  }
 ],
 "metadata": {
  "kernelspec": {
   "display_name": "Python 3",
   "language": "python",
   "name": "python3"
  },
  "language_info": {
   "codemirror_mode": {
    "name": "ipython",
    "version": 3
   },
   "file_extension": ".py",
   "mimetype": "text/x-python",
   "name": "python",
   "nbconvert_exporter": "python",
   "pygments_lexer": "ipython3",
   "version": "3.5.0"
  }
 },
 "nbformat": 4,
 "nbformat_minor": 1
}
